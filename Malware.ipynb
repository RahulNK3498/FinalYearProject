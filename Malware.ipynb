{
 "cells": [
  {
   "cell_type": "code",
   "execution_count": 268,
   "metadata": {},
   "outputs": [],
   "source": [
    "import numpy as np\n",
    "import pandas as pd\n",
    "import seaborn as sns\n",
    "import pickle as pck\n",
    "import matplotlib.pyplot as plt\n",
    "\n",
    "from sklearn.model_selection import train_test_split\n",
    "from sklearn.decomposition import PCA\n",
    "from sklearn.preprocessing import StandardScaler\n",
    "%matplotlib inline"
   ]
  },
  {
   "cell_type": "code",
   "execution_count": 269,
   "metadata": {},
   "outputs": [],
   "source": [
    "dataset = pd.read_csv('dataset_malwares.csv')"
   ]
  },
  {
   "cell_type": "code",
   "execution_count": 270,
   "metadata": {},
   "outputs": [],
   "source": [
    "\n",
    "from sklearn.model_selection import train_test_split"
   ]
  },
  {
   "cell_type": "code",
   "execution_count": 271,
   "metadata": {},
   "outputs": [
    {
     "data": {
      "text/plain": [
       "Index(['Name', 'e_magic', 'e_cblp', 'e_cp', 'e_crlc', 'e_cparhdr',\n",
       "       'e_minalloc', 'e_maxalloc', 'e_ss', 'e_sp', 'e_csum', 'e_ip', 'e_cs',\n",
       "       'e_lfarlc', 'e_ovno', 'e_oemid', 'e_oeminfo', 'e_lfanew', 'Machine',\n",
       "       'NumberOfSections', 'TimeDateStamp', 'PointerToSymbolTable',\n",
       "       'NumberOfSymbols', 'SizeOfOptionalHeader', 'Characteristics', 'Magic',\n",
       "       'MajorLinkerVersion', 'MinorLinkerVersion', 'SizeOfCode',\n",
       "       'SizeOfInitializedData', 'SizeOfUninitializedData',\n",
       "       'AddressOfEntryPoint', 'BaseOfCode', 'ImageBase', 'SectionAlignment',\n",
       "       'FileAlignment', 'MajorOperatingSystemVersion',\n",
       "       'MinorOperatingSystemVersion', 'MajorImageVersion', 'MinorImageVersion',\n",
       "       'MajorSubsystemVersion', 'MinorSubsystemVersion', 'SizeOfHeaders',\n",
       "       'CheckSum', 'SizeOfImage', 'Subsystem', 'DllCharacteristics',\n",
       "       'SizeOfStackReserve', 'SizeOfStackCommit', 'SizeOfHeapReserve',\n",
       "       'SizeOfHeapCommit', 'LoaderFlags', 'NumberOfRvaAndSizes', 'Malware',\n",
       "       'SuspiciousImportFunctions', 'SuspiciousNameSection', 'SectionsLength',\n",
       "       'SectionMinEntropy', 'SectionMaxEntropy', 'SectionMinRawsize',\n",
       "       'SectionMaxRawsize', 'SectionMinVirtualsize', 'SectionMaxVirtualsize',\n",
       "       'SectionMaxPhysical', 'SectionMinPhysical', 'SectionMaxVirtual',\n",
       "       'SectionMinVirtual', 'SectionMaxPointerData', 'SectionMinPointerData',\n",
       "       'SectionMaxChar', 'SectionMainChar', 'DirectoryEntryImport',\n",
       "       'DirectoryEntryImportSize', 'DirectoryEntryExport',\n",
       "       'ImageDirectoryEntryExport', 'ImageDirectoryEntryImport',\n",
       "       'ImageDirectoryEntryResource', 'ImageDirectoryEntryException',\n",
       "       'ImageDirectoryEntrySecurity'],\n",
       "      dtype='object')"
      ]
     },
     "execution_count": 271,
     "metadata": {},
     "output_type": "execute_result"
    }
   ],
   "source": [
    "dataset.keys()"
   ]
  },
  {
   "cell_type": "code",
   "execution_count": 272,
   "metadata": {},
   "outputs": [
    {
     "data": {
      "text/html": [
       "<div>\n",
       "<style scoped>\n",
       "    .dataframe tbody tr th:only-of-type {\n",
       "        vertical-align: middle;\n",
       "    }\n",
       "\n",
       "    .dataframe tbody tr th {\n",
       "        vertical-align: top;\n",
       "    }\n",
       "\n",
       "    .dataframe thead th {\n",
       "        text-align: right;\n",
       "    }\n",
       "</style>\n",
       "<table border=\"1\" class=\"dataframe\">\n",
       "  <thead>\n",
       "    <tr style=\"text-align: right;\">\n",
       "      <th></th>\n",
       "      <th>e_magic</th>\n",
       "      <th>e_cblp</th>\n",
       "      <th>e_cp</th>\n",
       "      <th>e_crlc</th>\n",
       "      <th>e_cparhdr</th>\n",
       "      <th>e_minalloc</th>\n",
       "      <th>e_maxalloc</th>\n",
       "      <th>e_ss</th>\n",
       "      <th>e_sp</th>\n",
       "      <th>e_csum</th>\n",
       "      <th>...</th>\n",
       "      <th>SectionMaxChar</th>\n",
       "      <th>SectionMainChar</th>\n",
       "      <th>DirectoryEntryImport</th>\n",
       "      <th>DirectoryEntryImportSize</th>\n",
       "      <th>DirectoryEntryExport</th>\n",
       "      <th>ImageDirectoryEntryExport</th>\n",
       "      <th>ImageDirectoryEntryImport</th>\n",
       "      <th>ImageDirectoryEntryResource</th>\n",
       "      <th>ImageDirectoryEntryException</th>\n",
       "      <th>ImageDirectoryEntrySecurity</th>\n",
       "    </tr>\n",
       "  </thead>\n",
       "  <tbody>\n",
       "    <tr>\n",
       "      <th>11441</th>\n",
       "      <td>23117</td>\n",
       "      <td>144</td>\n",
       "      <td>3</td>\n",
       "      <td>0</td>\n",
       "      <td>4</td>\n",
       "      <td>0</td>\n",
       "      <td>65535</td>\n",
       "      <td>0</td>\n",
       "      <td>184</td>\n",
       "      <td>0</td>\n",
       "      <td>...</td>\n",
       "      <td>3791650912</td>\n",
       "      <td>0</td>\n",
       "      <td>17</td>\n",
       "      <td>22</td>\n",
       "      <td>0</td>\n",
       "      <td>409626</td>\n",
       "      <td>422944</td>\n",
       "      <td>81920</td>\n",
       "      <td>77824</td>\n",
       "      <td>0</td>\n",
       "    </tr>\n",
       "    <tr>\n",
       "      <th>2624</th>\n",
       "      <td>23117</td>\n",
       "      <td>144</td>\n",
       "      <td>3</td>\n",
       "      <td>0</td>\n",
       "      <td>4</td>\n",
       "      <td>0</td>\n",
       "      <td>65535</td>\n",
       "      <td>0</td>\n",
       "      <td>184</td>\n",
       "      <td>0</td>\n",
       "      <td>...</td>\n",
       "      <td>3221225536</td>\n",
       "      <td>0</td>\n",
       "      <td>1</td>\n",
       "      <td>135</td>\n",
       "      <td>0</td>\n",
       "      <td>0</td>\n",
       "      <td>113332</td>\n",
       "      <td>131072</td>\n",
       "      <td>0</td>\n",
       "      <td>0</td>\n",
       "    </tr>\n",
       "    <tr>\n",
       "      <th>18874</th>\n",
       "      <td>23117</td>\n",
       "      <td>144</td>\n",
       "      <td>3</td>\n",
       "      <td>0</td>\n",
       "      <td>4</td>\n",
       "      <td>0</td>\n",
       "      <td>65535</td>\n",
       "      <td>0</td>\n",
       "      <td>184</td>\n",
       "      <td>0</td>\n",
       "      <td>...</td>\n",
       "      <td>3221225536</td>\n",
       "      <td>0</td>\n",
       "      <td>15</td>\n",
       "      <td>347</td>\n",
       "      <td>4</td>\n",
       "      <td>111632</td>\n",
       "      <td>132520</td>\n",
       "      <td>139264</td>\n",
       "      <td>0</td>\n",
       "      <td>0</td>\n",
       "    </tr>\n",
       "    <tr>\n",
       "      <th>16415</th>\n",
       "      <td>23117</td>\n",
       "      <td>144</td>\n",
       "      <td>3</td>\n",
       "      <td>0</td>\n",
       "      <td>4</td>\n",
       "      <td>0</td>\n",
       "      <td>65535</td>\n",
       "      <td>0</td>\n",
       "      <td>184</td>\n",
       "      <td>0</td>\n",
       "      <td>...</td>\n",
       "      <td>3221225600</td>\n",
       "      <td>0</td>\n",
       "      <td>7</td>\n",
       "      <td>159</td>\n",
       "      <td>0</td>\n",
       "      <td>0</td>\n",
       "      <td>29736</td>\n",
       "      <td>241664</td>\n",
       "      <td>0</td>\n",
       "      <td>117181216</td>\n",
       "    </tr>\n",
       "    <tr>\n",
       "      <th>11179</th>\n",
       "      <td>23117</td>\n",
       "      <td>144</td>\n",
       "      <td>3</td>\n",
       "      <td>0</td>\n",
       "      <td>4</td>\n",
       "      <td>0</td>\n",
       "      <td>65535</td>\n",
       "      <td>0</td>\n",
       "      <td>184</td>\n",
       "      <td>0</td>\n",
       "      <td>...</td>\n",
       "      <td>3221225536</td>\n",
       "      <td>0</td>\n",
       "      <td>4</td>\n",
       "      <td>88</td>\n",
       "      <td>0</td>\n",
       "      <td>0</td>\n",
       "      <td>222988</td>\n",
       "      <td>241664</td>\n",
       "      <td>0</td>\n",
       "      <td>719360</td>\n",
       "    </tr>\n",
       "  </tbody>\n",
       "</table>\n",
       "<p>5 rows × 77 columns</p>\n",
       "</div>"
      ],
      "text/plain": [
       "       e_magic  e_cblp  e_cp  e_crlc  e_cparhdr  e_minalloc  e_maxalloc  e_ss  \\\n",
       "11441    23117     144     3       0          4           0       65535     0   \n",
       "2624     23117     144     3       0          4           0       65535     0   \n",
       "18874    23117     144     3       0          4           0       65535     0   \n",
       "16415    23117     144     3       0          4           0       65535     0   \n",
       "11179    23117     144     3       0          4           0       65535     0   \n",
       "\n",
       "       e_sp  e_csum  ...  SectionMaxChar  SectionMainChar  \\\n",
       "11441   184       0  ...      3791650912                0   \n",
       "2624    184       0  ...      3221225536                0   \n",
       "18874   184       0  ...      3221225536                0   \n",
       "16415   184       0  ...      3221225600                0   \n",
       "11179   184       0  ...      3221225536                0   \n",
       "\n",
       "       DirectoryEntryImport  DirectoryEntryImportSize  DirectoryEntryExport  \\\n",
       "11441                    17                        22                     0   \n",
       "2624                      1                       135                     0   \n",
       "18874                    15                       347                     4   \n",
       "16415                     7                       159                     0   \n",
       "11179                     4                        88                     0   \n",
       "\n",
       "       ImageDirectoryEntryExport  ImageDirectoryEntryImport  \\\n",
       "11441                     409626                     422944   \n",
       "2624                           0                     113332   \n",
       "18874                     111632                     132520   \n",
       "16415                          0                      29736   \n",
       "11179                          0                     222988   \n",
       "\n",
       "       ImageDirectoryEntryResource  ImageDirectoryEntryException  \\\n",
       "11441                        81920                         77824   \n",
       "2624                        131072                             0   \n",
       "18874                       139264                             0   \n",
       "16415                       241664                             0   \n",
       "11179                       241664                             0   \n",
       "\n",
       "       ImageDirectoryEntrySecurity  \n",
       "11441                            0  \n",
       "2624                             0  \n",
       "18874                            0  \n",
       "16415                    117181216  \n",
       "11179                       719360  \n",
       "\n",
       "[5 rows x 77 columns]"
      ]
     },
     "execution_count": 272,
     "metadata": {},
     "output_type": "execute_result"
    }
   ],
   "source": [
    "X = dataset.drop(['Name','Malware'], axis=1)\n",
    "y = dataset['Malware']\n",
    "\n",
    "X_train, X_test, y_train, y_test= train_test_split(X,y, test_size=0.2, random_state=101)\n",
    "X_train.head()"
   ]
  },
  {
   "cell_type": "code",
   "execution_count": 273,
   "metadata": {},
   "outputs": [
    {
     "data": {
      "text/plain": [
       "array([[2.31170e+04, 1.44000e+02, 3.00000e+00, ..., 7.78240e+04,\n",
       "        7.37280e+04, 0.00000e+00],\n",
       "       [2.31170e+04, 1.44000e+02, 3.00000e+00, ..., 2.94912e+05,\n",
       "        0.00000e+00, 3.46112e+05],\n",
       "       [2.31170e+04, 1.44000e+02, 3.00000e+00, ..., 4.09600e+04,\n",
       "        0.00000e+00, 0.00000e+00],\n",
       "       ...,\n",
       "       [2.31170e+04, 0.00000e+00, 0.00000e+00, ..., 6.14400e+04,\n",
       "        0.00000e+00, 0.00000e+00],\n",
       "       [2.31170e+04, 1.44000e+02, 3.00000e+00, ..., 1.02400e+05,\n",
       "        0.00000e+00, 0.00000e+00],\n",
       "       [2.31170e+04, 1.44000e+02, 3.00000e+00, ..., 5.57056e+05,\n",
       "        0.00000e+00, 0.00000e+00]])"
      ]
     },
     "execution_count": 273,
     "metadata": {},
     "output_type": "execute_result"
    }
   ],
   "source": [
    "dataset.drop(['Name','Malware'], axis=1).values"
   ]
  },
  {
   "cell_type": "code",
   "execution_count": 274,
   "metadata": {},
   "outputs": [],
   "source": [
    "scaler = StandardScaler()\n",
    "X_scaled = scaler.fit_transform(X_train)"
   ]
  },
  {
   "cell_type": "code",
   "execution_count": 275,
   "metadata": {},
   "outputs": [
    {
     "data": {
      "text/html": [
       "<div>\n",
       "<style scoped>\n",
       "    .dataframe tbody tr th:only-of-type {\n",
       "        vertical-align: middle;\n",
       "    }\n",
       "\n",
       "    .dataframe tbody tr th {\n",
       "        vertical-align: top;\n",
       "    }\n",
       "\n",
       "    .dataframe thead th {\n",
       "        text-align: right;\n",
       "    }\n",
       "</style>\n",
       "<table border=\"1\" class=\"dataframe\">\n",
       "  <thead>\n",
       "    <tr style=\"text-align: right;\">\n",
       "      <th></th>\n",
       "      <th>e_magic</th>\n",
       "      <th>e_cblp</th>\n",
       "      <th>e_cp</th>\n",
       "      <th>e_crlc</th>\n",
       "      <th>e_cparhdr</th>\n",
       "      <th>e_minalloc</th>\n",
       "      <th>e_maxalloc</th>\n",
       "      <th>e_ss</th>\n",
       "      <th>e_sp</th>\n",
       "      <th>e_csum</th>\n",
       "      <th>...</th>\n",
       "      <th>SectionMaxChar</th>\n",
       "      <th>SectionMainChar</th>\n",
       "      <th>DirectoryEntryImport</th>\n",
       "      <th>DirectoryEntryImportSize</th>\n",
       "      <th>DirectoryEntryExport</th>\n",
       "      <th>ImageDirectoryEntryExport</th>\n",
       "      <th>ImageDirectoryEntryImport</th>\n",
       "      <th>ImageDirectoryEntryResource</th>\n",
       "      <th>ImageDirectoryEntryException</th>\n",
       "      <th>ImageDirectoryEntrySecurity</th>\n",
       "    </tr>\n",
       "  </thead>\n",
       "  <tbody>\n",
       "    <tr>\n",
       "      <th>0</th>\n",
       "      <td>0.0</td>\n",
       "      <td>-0.038591</td>\n",
       "      <td>-0.050297</td>\n",
       "      <td>-0.041557</td>\n",
       "      <td>-0.040212</td>\n",
       "      <td>-0.042419</td>\n",
       "      <td>0.148298</td>\n",
       "      <td>-0.016139</td>\n",
       "      <td>-0.036843</td>\n",
       "      <td>-0.031918</td>\n",
       "      <td>...</td>\n",
       "      <td>1.076024</td>\n",
       "      <td>0.0</td>\n",
       "      <td>1.379922</td>\n",
       "      <td>-0.623512</td>\n",
       "      <td>-0.087645</td>\n",
       "      <td>0.000436</td>\n",
       "      <td>-0.000677</td>\n",
       "      <td>-0.067061</td>\n",
       "      <td>-0.019125</td>\n",
       "      <td>-0.040622</td>\n",
       "    </tr>\n",
       "    <tr>\n",
       "      <th>1</th>\n",
       "      <td>0.0</td>\n",
       "      <td>-0.038591</td>\n",
       "      <td>-0.050297</td>\n",
       "      <td>-0.041557</td>\n",
       "      <td>-0.040212</td>\n",
       "      <td>-0.042419</td>\n",
       "      <td>0.148298</td>\n",
       "      <td>-0.016139</td>\n",
       "      <td>-0.036843</td>\n",
       "      <td>-0.031918</td>\n",
       "      <td>...</td>\n",
       "      <td>0.097299</td>\n",
       "      <td>0.0</td>\n",
       "      <td>-0.656755</td>\n",
       "      <td>0.249356</td>\n",
       "      <td>-0.087645</td>\n",
       "      <td>-0.016366</td>\n",
       "      <td>-0.059942</td>\n",
       "      <td>-0.060538</td>\n",
       "      <td>-0.020494</td>\n",
       "      <td>-0.040622</td>\n",
       "    </tr>\n",
       "    <tr>\n",
       "      <th>2</th>\n",
       "      <td>0.0</td>\n",
       "      <td>-0.038591</td>\n",
       "      <td>-0.050297</td>\n",
       "      <td>-0.041557</td>\n",
       "      <td>-0.040212</td>\n",
       "      <td>-0.042419</td>\n",
       "      <td>0.148298</td>\n",
       "      <td>-0.016139</td>\n",
       "      <td>-0.036843</td>\n",
       "      <td>-0.031918</td>\n",
       "      <td>...</td>\n",
       "      <td>0.097299</td>\n",
       "      <td>0.0</td>\n",
       "      <td>1.125337</td>\n",
       "      <td>1.886949</td>\n",
       "      <td>-0.063126</td>\n",
       "      <td>-0.011787</td>\n",
       "      <td>-0.056269</td>\n",
       "      <td>-0.059451</td>\n",
       "      <td>-0.020494</td>\n",
       "      <td>-0.040622</td>\n",
       "    </tr>\n",
       "    <tr>\n",
       "      <th>3</th>\n",
       "      <td>0.0</td>\n",
       "      <td>-0.038591</td>\n",
       "      <td>-0.050297</td>\n",
       "      <td>-0.041557</td>\n",
       "      <td>-0.040212</td>\n",
       "      <td>-0.042419</td>\n",
       "      <td>0.148298</td>\n",
       "      <td>-0.016139</td>\n",
       "      <td>-0.036843</td>\n",
       "      <td>-0.031918</td>\n",
       "      <td>...</td>\n",
       "      <td>0.097299</td>\n",
       "      <td>0.0</td>\n",
       "      <td>0.106999</td>\n",
       "      <td>0.434744</td>\n",
       "      <td>-0.087645</td>\n",
       "      <td>-0.016366</td>\n",
       "      <td>-0.075943</td>\n",
       "      <td>-0.045862</td>\n",
       "      <td>-0.020494</td>\n",
       "      <td>5.561297</td>\n",
       "    </tr>\n",
       "    <tr>\n",
       "      <th>4</th>\n",
       "      <td>0.0</td>\n",
       "      <td>-0.038591</td>\n",
       "      <td>-0.050297</td>\n",
       "      <td>-0.041557</td>\n",
       "      <td>-0.040212</td>\n",
       "      <td>-0.042419</td>\n",
       "      <td>0.148298</td>\n",
       "      <td>-0.016139</td>\n",
       "      <td>-0.036843</td>\n",
       "      <td>-0.031918</td>\n",
       "      <td>...</td>\n",
       "      <td>0.097299</td>\n",
       "      <td>0.0</td>\n",
       "      <td>-0.274878</td>\n",
       "      <td>-0.113695</td>\n",
       "      <td>-0.087645</td>\n",
       "      <td>-0.016366</td>\n",
       "      <td>-0.038952</td>\n",
       "      <td>-0.045862</td>\n",
       "      <td>-0.020494</td>\n",
       "      <td>-0.006233</td>\n",
       "    </tr>\n",
       "  </tbody>\n",
       "</table>\n",
       "<p>5 rows × 77 columns</p>\n",
       "</div>"
      ],
      "text/plain": [
       "   e_magic    e_cblp      e_cp    e_crlc  e_cparhdr  e_minalloc  e_maxalloc  \\\n",
       "0      0.0 -0.038591 -0.050297 -0.041557  -0.040212   -0.042419    0.148298   \n",
       "1      0.0 -0.038591 -0.050297 -0.041557  -0.040212   -0.042419    0.148298   \n",
       "2      0.0 -0.038591 -0.050297 -0.041557  -0.040212   -0.042419    0.148298   \n",
       "3      0.0 -0.038591 -0.050297 -0.041557  -0.040212   -0.042419    0.148298   \n",
       "4      0.0 -0.038591 -0.050297 -0.041557  -0.040212   -0.042419    0.148298   \n",
       "\n",
       "       e_ss      e_sp    e_csum  ...  SectionMaxChar  SectionMainChar  \\\n",
       "0 -0.016139 -0.036843 -0.031918  ...        1.076024              0.0   \n",
       "1 -0.016139 -0.036843 -0.031918  ...        0.097299              0.0   \n",
       "2 -0.016139 -0.036843 -0.031918  ...        0.097299              0.0   \n",
       "3 -0.016139 -0.036843 -0.031918  ...        0.097299              0.0   \n",
       "4 -0.016139 -0.036843 -0.031918  ...        0.097299              0.0   \n",
       "\n",
       "   DirectoryEntryImport  DirectoryEntryImportSize  DirectoryEntryExport  \\\n",
       "0              1.379922                 -0.623512             -0.087645   \n",
       "1             -0.656755                  0.249356             -0.087645   \n",
       "2              1.125337                  1.886949             -0.063126   \n",
       "3              0.106999                  0.434744             -0.087645   \n",
       "4             -0.274878                 -0.113695             -0.087645   \n",
       "\n",
       "   ImageDirectoryEntryExport  ImageDirectoryEntryImport  \\\n",
       "0                   0.000436                  -0.000677   \n",
       "1                  -0.016366                  -0.059942   \n",
       "2                  -0.011787                  -0.056269   \n",
       "3                  -0.016366                  -0.075943   \n",
       "4                  -0.016366                  -0.038952   \n",
       "\n",
       "   ImageDirectoryEntryResource  ImageDirectoryEntryException  \\\n",
       "0                    -0.067061                     -0.019125   \n",
       "1                    -0.060538                     -0.020494   \n",
       "2                    -0.059451                     -0.020494   \n",
       "3                    -0.045862                     -0.020494   \n",
       "4                    -0.045862                     -0.020494   \n",
       "\n",
       "   ImageDirectoryEntrySecurity  \n",
       "0                    -0.040622  \n",
       "1                    -0.040622  \n",
       "2                    -0.040622  \n",
       "3                     5.561297  \n",
       "4                    -0.006233  \n",
       "\n",
       "[5 rows x 77 columns]"
      ]
     },
     "execution_count": 275,
     "metadata": {},
     "output_type": "execute_result"
    }
   ],
   "source": [
    "X_new = pd.DataFrame(X_scaled, columns=X.columns)\n",
    "X_new.head()\n"
   ]
  },
  {
   "cell_type": "code",
   "execution_count": 276,
   "metadata": {},
   "outputs": [],
   "source": [
    "import seaborn as sns"
   ]
  },
  {
   "cell_type": "markdown",
   "metadata": {},
   "source": [
    "corrmat = dataset.corr()\n",
    "top_corr_features = corrmat.index\n",
    "plt.figure(figsize=(80,80))\n",
    "#plot heat map\n",
    "plt.savefig('heatmap.png')\n",
    "g=sns.heatmap(dataset[top_corr_features].corr(),annot=True,cmap=\"RdYlGn\")"
   ]
  },
  {
   "cell_type": "code",
   "execution_count": 306,
   "metadata": {},
   "outputs": [
    {
     "name": "stdout",
     "output_type": "stream",
     "text": [
      "Index(['e_maxalloc', 'Machine', 'NumberOfSections', 'TimeDateStamp',\n",
      "       'SizeOfOptionalHeader', 'Characteristics', 'Magic',\n",
      "       'MajorLinkerVersion', 'MinorLinkerVersion', 'ImageBase',\n",
      "       'SectionAlignment', 'FileAlignment', 'MajorSubsystemVersion',\n",
      "       'CheckSum', 'Subsystem', 'DllCharacteristics', 'SizeOfStackReserve',\n",
      "       'SuspiciousImportFunctions', 'SectionsLength', 'SectionMaxChar',\n",
      "       'DirectoryEntryImport', 'DirectoryEntryExport'],\n",
      "      dtype='object')\n"
     ]
    }
   ],
   "source": [
    "cor = dataset.corr()\n",
    "cor_target = abs(cor[\"Malware\"])\n",
    "relevant_features = cor_target[cor_target>0.1]\n",
    "print(relevant_features.drop('Malware').keys())"
   ]
  },
  {
   "cell_type": "code",
   "execution_count": 277,
   "metadata": {},
   "outputs": [
    {
     "data": {
      "text/plain": [
       "(19611, 77)"
      ]
     },
     "execution_count": 277,
     "metadata": {},
     "output_type": "execute_result"
    }
   ],
   "source": [
    "X.shape"
   ]
  },
  {
   "cell_type": "code",
   "execution_count": 299,
   "metadata": {},
   "outputs": [
    {
     "name": "stderr",
     "output_type": "stream",
     "text": [
      "e:\\Users\\rahul\\Anaconda3\\lib\\site-packages\\sklearn\\ensemble\\forest.py:245: FutureWarning: The default value of n_estimators will change from 10 in version 0.20 to 100 in 0.22.\n",
      "  \"10 in version 0.20 to 100 in 0.22.\", FutureWarning)\n"
     ]
    },
    {
     "name": "stdout",
     "output_type": "stream",
     "text": [
      "[0.00000000e+00 5.59149353e-04 1.59562617e-03 3.51837348e-05\n",
      " 1.60783802e-04 7.66469976e-04 1.19978955e-02 6.20907711e-05\n",
      " 5.55369252e-04 1.37010121e-04 4.59112327e-05 2.48094773e-04\n",
      " 3.53143459e-05 8.85129927e-04 3.08220960e-04 3.33603285e-04\n",
      " 3.70150717e-03 1.18577542e-02 5.62616266e-03 3.98011662e-02\n",
      " 2.28472342e-04 1.04062579e-03 1.54216641e-02 1.50927718e-01\n",
      " 2.65165049e-02 1.84325869e-02 3.68968432e-03 4.90363636e-03\n",
      " 5.11160567e-03 5.80873151e-04 3.65282965e-03 2.92691641e-03\n",
      " 2.87108354e-02 1.69650419e-02 1.44705527e-02 7.89924948e-02\n",
      " 6.14562360e-02 8.90157885e-03 6.72807568e-03 3.27621516e-02\n",
      " 3.50586200e-02 9.32842300e-03 1.06160193e-02 4.01479675e-03\n",
      " 1.02699074e-01 3.23503523e-02 5.99384189e-02 1.28426568e-03\n",
      " 8.84265878e-03 3.81308952e-03 7.94621487e-05 7.62247970e-05\n",
      " 5.02659405e-03 1.43961281e-03 7.92328710e-03 1.95740561e-02\n",
      " 0.00000000e+00 4.21449653e-03 0.00000000e+00 4.42347863e-03\n",
      " 0.00000000e+00 3.23253688e-03 0.00000000e+00 3.06286971e-03\n",
      " 0.00000000e+00 7.50365742e-03 0.00000000e+00 7.47465651e-02\n",
      " 0.00000000e+00 1.57310927e-02 4.46664337e-03 4.20411322e-03\n",
      " 2.09301731e-03 3.51369627e-03 2.83713229e-03 6.89844144e-04\n",
      " 6.08337323e-03]\n",
      "e_magic      0.000000\n",
      "e_cblp       0.000559\n",
      "e_cp         0.001596\n",
      "e_crlc       0.000035\n",
      "e_cparhdr    0.000161\n",
      "dtype: float64\n"
     ]
    },
    {
     "data": {
      "image/png": "[encoded data removed]",
      "text/plain": [
       "<Figure size 432x288 with 1 Axes>"
      ]
     },
     "metadata": {
      "needs_background": "light"
     },
     "output_type": "display_data"
    }
   ],
   "source": [
    "from sklearn.ensemble import ExtraTreesClassifier\n",
    "import matplotlib.pyplot as plt\n",
    "model = ExtraTreesClassifier()\n",
    "model.fit(X_new,y_train)\n",
    "print(model.feature_importances_) #use inbuilt class feature_importances of tree based classifiers\n",
    "#plot graph of feature importances for better visualization\n",
    "feat_importances = pd.Series(model.feature_importances_, index=dataset.drop(['Name','Malware'], axis=1).columns)\n",
    "feat_importances.nlargest(25).plot(kind='barh')\n",
    "print((feat_importances.head()))\n",
    "plt.show()"
   ]
  },
  {
   "cell_type": "code",
   "execution_count": 279,
   "metadata": {},
   "outputs": [],
   "source": [
    "from sklearn.ensemble import RandomForestClassifier as RFC\n",
    "\n",
    "# X2 = X_new[['e_maxalloc','SectionAlignment','FileAlignment','SuspiciousImportFunctions','MinorOperatingSystemVersion','SectionMinEntropy','MinorSubsystemVersion','Subsystem','DllCharacteristics','MajorSubsystemVersion','ImageBase','Characteristics']]"
   ]
  },
  {
   "cell_type": "code",
   "execution_count": 307,
   "metadata": {},
   "outputs": [],
   "source": [
    "def filterdf(df):\n",
    "    X2 = df[['e_maxalloc', 'Machine', 'NumberOfSections', 'TimeDateStamp',\n",
    "       'SizeOfOptionalHeader', 'Characteristics', 'Magic',\n",
    "       'MajorLinkerVersion', 'MinorLinkerVersion', 'ImageBase',\n",
    "       'SectionAlignment', 'FileAlignment', 'MajorSubsystemVersion',\n",
    "       'CheckSum', 'Subsystem', 'DllCharacteristics', 'SizeOfStackReserve',\n",
    "       'SuspiciousImportFunctions', 'SectionsLength', 'SectionMaxChar',\n",
    "       'DirectoryEntryImport', 'DirectoryEntryExport']]\n",
    "    return X2"
   ]
  },
  {
   "cell_type": "code",
   "execution_count": 308,
   "metadata": {},
   "outputs": [
    {
     "data": {
      "text/plain": [
       "RandomForestClassifier(bootstrap=True, class_weight=None, criterion='gini',\n",
       "                       max_depth=16, max_features='sqrt', max_leaf_nodes=None,\n",
       "                       min_impurity_decrease=0.0, min_impurity_split=None,\n",
       "                       min_samples_leaf=1, min_samples_split=2,\n",
       "                       min_weight_fraction_leaf=0.0, n_estimators=100,\n",
       "                       n_jobs=None, oob_score=True, random_state=0, verbose=0,\n",
       "                       warm_start=False)"
      ]
     },
     "execution_count": 308,
     "metadata": {},
     "output_type": "execute_result"
    }
   ],
   "source": [
    "model = RFC(n_estimators=100, random_state=0, \n",
    "                         oob_score = True,\n",
    "                         max_depth = 16, \n",
    "                         max_features = 'sqrt')\n",
    "model.fit(filterdf(X_new), y_train)"
   ]
  },
  {
   "cell_type": "code",
   "execution_count": 309,
   "metadata": {},
   "outputs": [
    {
     "name": "stdout",
     "output_type": "stream",
     "text": [
      "(15688, 22)\n",
      "(3923, 22)\n"
     ]
    }
   ],
   "source": [
    "\n",
    "print(np.shape(filterdf(X_new)))\n",
    "print(np.shape(filterdf(X_test)))"
   ]
  },
  {
   "cell_type": "code",
   "execution_count": 310,
   "metadata": {},
   "outputs": [
    {
     "data": {
      "text/plain": [
       "0.9969403365629781"
      ]
     },
     "execution_count": 310,
     "metadata": {},
     "output_type": "execute_result"
    }
   ],
   "source": [
    "model.score(filterdf(X_new),y_train)"
   ]
  },
  {
   "cell_type": "code",
   "execution_count": 311,
   "metadata": {},
   "outputs": [
    {
     "data": {
      "text/plain": [
       "0.9936273260260005"
      ]
     },
     "execution_count": 311,
     "metadata": {},
     "output_type": "execute_result"
    }
   ],
   "source": [
    "X_test_scaled = scaler.transform(X_test)\n",
    "X_test_new = pd.DataFrame(X_test_scaled, columns=X_new.columns)\n",
    "model.score(filterdf(X_test_new),y_test)"
   ]
  },
  {
   "cell_type": "code",
   "execution_count": 312,
   "metadata": {},
   "outputs": [
    {
     "name": "stdout",
     "output_type": "stream",
     "text": [
      "              precision    recall  f1-score   support\n",
      "\n",
      "           0       0.98      0.99      0.99       965\n",
      "           1       1.00      0.99      1.00      2958\n",
      "\n",
      "    accuracy                           0.99      3923\n",
      "   macro avg       0.99      0.99      0.99      3923\n",
      "weighted avg       0.99      0.99      0.99      3923\n",
      "\n"
     ]
    }
   ],
   "source": [
    "from sklearn.metrics import classification_report, confusion_matrix\n",
    "y_pred = model.predict(filterdf(X_test_new))\n",
    "print(classification_report(y_pred, y_test))\n"
   ]
  },
  {
   "cell_type": "code",
   "execution_count": 313,
   "metadata": {},
   "outputs": [
    {
     "data": {
      "text/plain": [
       "<matplotlib.axes._subplots.AxesSubplot at 0x28089cc4d68>"
      ]
     },
     "execution_count": 313,
     "metadata": {},
     "output_type": "execute_result"
    },
    {
     "data": {
      "image/png": "[encoded data removed]",
      "text/plain": [
       "<Figure size 432x288 with 1 Axes>"
      ]
     },
     "metadata": {
      "needs_background": "light"
     },
     "output_type": "display_data"
    }
   ],
   "source": [
    "sns.heatmap(confusion_matrix(y_pred, y_test), annot=True, fmt=\"d\", cmap=plt.cm.Blues, cbar=False)\n"
   ]
  },
  {
   "cell_type": "code",
   "execution_count": 314,
   "metadata": {},
   "outputs": [],
   "source": [
    "from sklearn.externals import joblib\n",
    "from sklearn.pipeline import Pipeline\n",
    "pipe = Pipeline([('scale', scaler), ('clf', model)])\n"
   ]
  },
  {
   "cell_type": "code",
   "execution_count": 315,
   "metadata": {},
   "outputs": [
    {
     "data": {
      "text/html": [
       "<div>\n",
       "<style scoped>\n",
       "    .dataframe tbody tr th:only-of-type {\n",
       "        vertical-align: middle;\n",
       "    }\n",
       "\n",
       "    .dataframe tbody tr th {\n",
       "        vertical-align: top;\n",
       "    }\n",
       "\n",
       "    .dataframe thead th {\n",
       "        text-align: right;\n",
       "    }\n",
       "</style>\n",
       "<table border=\"1\" class=\"dataframe\">\n",
       "  <thead>\n",
       "    <tr style=\"text-align: right;\">\n",
       "      <th></th>\n",
       "      <th>Name</th>\n",
       "      <th>0</th>\n",
       "    </tr>\n",
       "  </thead>\n",
       "  <tbody>\n",
       "    <tr>\n",
       "      <th>0</th>\n",
       "      <td>Skype-8.10.0.9.exe</td>\n",
       "      <td>0</td>\n",
       "    </tr>\n",
       "    <tr>\n",
       "      <th>1</th>\n",
       "      <td>vlc-3.0.2-win64.exe</td>\n",
       "      <td>0</td>\n",
       "    </tr>\n",
       "    <tr>\n",
       "      <th>2</th>\n",
       "      <td>stinger32.exe</td>\n",
       "      <td>0</td>\n",
       "    </tr>\n",
       "    <tr>\n",
       "      <th>3</th>\n",
       "      <td>SpotifyFullSetup.exe</td>\n",
       "      <td>0</td>\n",
       "    </tr>\n",
       "    <tr>\n",
       "      <th>4</th>\n",
       "      <td>uftp_english.exe</td>\n",
       "      <td>0</td>\n",
       "    </tr>\n",
       "    <tr>\n",
       "      <th>5</th>\n",
       "      <td>161a59f2525518f799c63f916c80fe85f50c5b09c74dc2...</td>\n",
       "      <td>1</td>\n",
       "    </tr>\n",
       "    <tr>\n",
       "      <th>6</th>\n",
       "      <td>eaa478e65696ad5cbdb42c1b4bd6954f2a876fdde2e519...</td>\n",
       "      <td>0</td>\n",
       "    </tr>\n",
       "    <tr>\n",
       "      <th>7</th>\n",
       "      <td>reverse_shell.exe</td>\n",
       "      <td>1</td>\n",
       "    </tr>\n",
       "    <tr>\n",
       "      <th>8</th>\n",
       "      <td>873b9eaef6ea5ed6126086594529a3395bdbc5d63c97d8...</td>\n",
       "      <td>0</td>\n",
       "    </tr>\n",
       "    <tr>\n",
       "      <th>9</th>\n",
       "      <td>ScratchInstaller1.4.exe</td>\n",
       "      <td>1</td>\n",
       "    </tr>\n",
       "    <tr>\n",
       "      <th>10</th>\n",
       "      <td>69eb27dd3bbf5077dcd795872535b89af9a898254b90ad...</td>\n",
       "      <td>0</td>\n",
       "    </tr>\n",
       "    <tr>\n",
       "      <th>11</th>\n",
       "      <td>3334686141a400bb522824fa6f7faf30614372fe11837a...</td>\n",
       "      <td>1</td>\n",
       "    </tr>\n",
       "    <tr>\n",
       "      <th>12</th>\n",
       "      <td>3ec4cb928846f8298e5a13b3e96bfc2a709cb3b005a31e...</td>\n",
       "      <td>1</td>\n",
       "    </tr>\n",
       "    <tr>\n",
       "      <th>13</th>\n",
       "      <td>252f705dc15d7a305afd3e0619fa014c10b679248f71b7...</td>\n",
       "      <td>1</td>\n",
       "    </tr>\n",
       "    <tr>\n",
       "      <th>14</th>\n",
       "      <td>wordweb8.exe</td>\n",
       "      <td>1</td>\n",
       "    </tr>\n",
       "    <tr>\n",
       "      <th>15</th>\n",
       "      <td>c89f1e55b418a4447394994498971c6e6f3848bfe39ef9...</td>\n",
       "      <td>0</td>\n",
       "    </tr>\n",
       "    <tr>\n",
       "      <th>16</th>\n",
       "      <td>winrar-x64-550.exe</td>\n",
       "      <td>0</td>\n",
       "    </tr>\n",
       "  </tbody>\n",
       "</table>\n",
       "</div>"
      ],
      "text/plain": [
       "                                                 Name  0\n",
       "0                                  Skype-8.10.0.9.exe  0\n",
       "1                                 vlc-3.0.2-win64.exe  0\n",
       "2                                       stinger32.exe  0\n",
       "3                                SpotifyFullSetup.exe  0\n",
       "4                                    uftp_english.exe  0\n",
       "5   161a59f2525518f799c63f916c80fe85f50c5b09c74dc2...  1\n",
       "6   eaa478e65696ad5cbdb42c1b4bd6954f2a876fdde2e519...  0\n",
       "7                                   reverse_shell.exe  1\n",
       "8   873b9eaef6ea5ed6126086594529a3395bdbc5d63c97d8...  0\n",
       "9                             ScratchInstaller1.4.exe  1\n",
       "10  69eb27dd3bbf5077dcd795872535b89af9a898254b90ad...  0\n",
       "11  3334686141a400bb522824fa6f7faf30614372fe11837a...  1\n",
       "12  3ec4cb928846f8298e5a13b3e96bfc2a709cb3b005a31e...  1\n",
       "13  252f705dc15d7a305afd3e0619fa014c10b679248f71b7...  1\n",
       "14                                       wordweb8.exe  1\n",
       "15  c89f1e55b418a4447394994498971c6e6f3848bfe39ef9...  0\n",
       "16                                 winrar-x64-550.exe  0"
      ]
     },
     "execution_count": 315,
     "metadata": {},
     "output_type": "execute_result"
    }
   ],
   "source": [
    "test = pd.read_csv('dataset_test.csv', sep=',')\n",
    "\n",
    "X_to_push = test\n",
    "X_testing = test.drop(['Name'], axis=1)\n",
    "\n",
    "\n",
    "clf = pipe\n",
    "X_testing_scaled = clf.named_steps['scale'].transform(X_testing)\n",
    "# X_testing_pca = clf.named_steps['pca'].transform(X_testing_scaled)\n",
    "# print(type(X_testing_scaled))\n",
    "X_testing_new = pd.DataFrame(X_testing_scaled, columns=X_testing.columns)\n",
    "\n",
    "y_testing_pred = clf.named_steps['clf'].predict(filterdf(X_testing_new))\n",
    "pd.concat([X_to_push['Name'], pd.DataFrame(y_testing_pred) ], axis=1)\n"
   ]
  },
  {
   "cell_type": "code",
   "execution_count": null,
   "metadata": {},
   "outputs": [],
   "source": []
  }
 ],
 "metadata": {
  "kernelspec": {
   "display_name": "Python 3",
   "language": "python",
   "name": "python3"
  },
  "language_info": {
   "codemirror_mode": {
    "name": "ipython",
    "version": 3
   },
   "file_extension": ".py",
   "mimetype": "text/x-python",
   "name": "python",
   "nbconvert_exporter": "python",
   "pygments_lexer": "ipython3",
   "version": "3.7.3"
  }
 },
 "nbformat": 4,
 "nbformat_minor": 2
}
